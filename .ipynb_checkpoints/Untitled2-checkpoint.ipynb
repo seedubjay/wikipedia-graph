{
 "cells": [
  {
   "cell_type": "code",
   "execution_count": 10,
   "metadata": {},
   "outputs": [],
   "source": [
    "import networkx\n",
    "import os\n",
    "from tqdm.notebook import tqdm"
   ]
  },
  {
   "cell_type": "code",
   "execution_count": 11,
   "metadata": {},
   "outputs": [],
   "source": [
    "DUMP_LANG = 'en'\n",
    "DUMP_DATE = '20200401'\n",
    "\n",
    "RESULTS_DIR = 'results/'"
   ]
  },
  {
   "cell_type": "code",
   "execution_count": 23,
   "metadata": {},
   "outputs": [
    {
     "name": "stdout",
     "output_type": "stream",
     "text": [
      "hello\n"
     ]
    }
   ],
   "source": [
    "graph = networkx.Graph()\n",
    "\n",
    "with open(RESULTS_DIR + f\"{DUMP_LANG}wiki-{DUMP_DATE}-links.csv\") as f:\n",
    "    print('hello')\n",
    "    for l in f:\n",
    "        print(l)\n",
    "        graph.add_edge(*map(int,l.split(',')))\n",
    "        "
   ]
  },
  {
   "cell_type": "code",
   "execution_count": null,
   "metadata": {},
   "outputs": [],
   "source": []
  }
 ],
 "metadata": {
  "kernelspec": {
   "display_name": "Python 3",
   "language": "python",
   "name": "python3"
  },
  "language_info": {
   "codemirror_mode": {
    "name": "ipython",
    "version": 3
   },
   "file_extension": ".py",
   "mimetype": "text/x-python",
   "name": "python",
   "nbconvert_exporter": "python",
   "pygments_lexer": "ipython3",
   "version": "3.8.2"
  }
 },
 "nbformat": 4,
 "nbformat_minor": 4
}
